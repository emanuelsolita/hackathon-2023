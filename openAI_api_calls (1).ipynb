{
 "cells": [
  {
   "cell_type": "code",
   "execution_count": 0,
   "metadata": {
    "application/vnd.databricks.v1+cell": {
     "cellMetadata": {
      "byteLimit": 2048000,
      "rowLimit": 10000
     },
     "inputWidgets": {},
     "nuid": "b7cbba15-25a5-4604-bf93-ac3ba481a958",
     "showTitle": false,
     "title": ""
    }
   },
   "outputs": [],
   "source": [
    "from pyspark.sql.functions import input_file_name, current_timestamp, col, udf\n",
    "import pyspark.sql.functions as F \n",
    "import openai\n",
    "import os\n",
    "from pyspark.sql.types import StructType,StructField, StringType, IntegerType, LongType, TimestampType, DoubleType, FloatType, DecimalType, ArrayType\n",
    "\n",
    "# Define source paths\n",
    "src_data_storage_path = \"abfss://landing@landing123emhol.dfs.core.windows.net/face_api_json/\"\n",
    "checkpoint_json = \"dbfs:/tmp/auto_loader/checkpoint/nottest2\"\n",
    "trg_delta_table = \"db_hack.bronze.stg_face_api_json_3\"\n",
    "\n",
    "# Define source delta paths (target path for json)\n",
    "checkpoint_delta = \"dbfs:/tmp/auto_loader/checkpoint/checkpoint_delta_test5\"\n",
    "checkpoint_delta_schema = \"dbfs:/tmp/auto_loader/checkpoint/checkpoint_delta_schema_test_5\"\n",
    "source_delta_table = \"db_hack.bronze.stg_face_api_json_3\"\n",
    "trg_delta_table_silver = \"db_hack.silver.shrek_story_5\""
   ]
  },
  {
   "cell_type": "markdown",
   "metadata": {
    "application/vnd.databricks.v1+cell": {
     "cellMetadata": {},
     "inputWidgets": {},
     "nuid": "b170e832-f3f9-450a-9c62-c20c7c6c05ec",
     "showTitle": false,
     "title": ""
    }
   },
   "source": [
    "Read adhoc file and infer schema"
   ]
  },
  {
   "cell_type": "code",
   "execution_count": 0,
   "metadata": {
    "application/vnd.databricks.v1+cell": {
     "cellMetadata": {
      "byteLimit": 2048000,
      "rowLimit": 10000
     },
     "inputWidgets": {},
     "nuid": "57a1ea49-bec9-4b6e-a696-eb5ebaac472d",
     "showTitle": false,
     "title": ""
    }
   },
   "outputs": [],
   "source": [
    "df = spark.read.option(\"inferSchema\", True).option(\"cloudFiles.schemaLocation\", checkpoint_json).json(src_data_storage_path)\n",
    "schema = df.schema"
   ]
  },
  {
   "cell_type": "markdown",
   "metadata": {
    "application/vnd.databricks.v1+cell": {
     "cellMetadata": {},
     "inputWidgets": {},
     "nuid": "6f21bb75-44bf-475b-a515-130ed33555e0",
     "showTitle": false,
     "title": ""
    }
   },
   "source": [
    "Create stream for FaceAPI and write to delta location"
   ]
  },
  {
   "cell_type": "code",
   "execution_count": 0,
   "metadata": {
    "application/vnd.databricks.v1+cell": {
     "cellMetadata": {
      "byteLimit": 2048000,
      "rowLimit": 10000
     },
     "inputWidgets": {},
     "nuid": "23b4b1e6-d08e-4f02-9af6-0def7e47fd62",
     "showTitle": false,
     "title": ""
    }
   },
   "outputs": [
    {
     "output_type": "display_data",
     "data": {
      "text/html": [
       "<style scoped>\n",
       "  .ansiout {\n",
       "    display: block;\n",
       "    unicode-bidi: embed;\n",
       "    white-space: pre-wrap;\n",
       "    word-wrap: break-word;\n",
       "    word-break: break-all;\n",
       "    font-family: \"Source Code Pro\", \"Menlo\", monospace;;\n",
       "    font-size: 13px;\n",
       "    color: #555;\n",
       "    margin-left: 4px;\n",
       "    line-height: 19px;\n",
       "  }\n",
       "</style>"
      ]
     },
     "metadata": {
      "application/vnd.databricks.v1+output": {
       "arguments": {},
       "data": "",
       "errorSummary": "Cancelled",
       "errorTraceType": "html",
       "metadata": {},
       "type": "ipynbError"
      }
     },
     "output_type": "display_data"
    }
   ],
   "source": [
    "spark.readStream.option(\"inferSchema\", True).json(src_data_storage_path, schema=schema).selectExpr(\"faceId\", \"faceAttributes.age\", \"faceAttributes.emotion.anger\", \"faceAttributes.emotion.contempt\", \"faceAttributes.emotion.disgust\", \"faceAttributes.emotion.fear\", \"faceAttributes.emotion.happiness\", \"faceAttributes.emotion.neutral\", \"faceAttributes.emotion.sadness\", \"faceAttributes.emotion.surprise\", \"faceAttributes.gender\", \"capturetime\", \"current_timestamp() AS load_time\").writeStream \\\n",
    "  .format(\"delta\") \\\n",
    "  .option(\"checkpointLocation\", checkpoint_json) \\\n",
    "  .toTable(trg_delta_table)"
   ]
  },
  {
   "cell_type": "markdown",
   "metadata": {
    "application/vnd.databricks.v1+cell": {
     "cellMetadata": {},
     "inputWidgets": {},
     "nuid": "0c840828-3d4d-4a31-8080-7ccb254c5473",
     "showTitle": false,
     "title": ""
    }
   },
   "source": [
    "Take a look at all the data!"
   ]
  },
  {
   "cell_type": "code",
   "execution_count": 0,
   "metadata": {
    "application/vnd.databricks.v1+cell": {
     "cellMetadata": {
      "byteLimit": 2048000,
      "implicitDf": true,
      "rowLimit": 10000
     },
     "inputWidgets": {},
     "nuid": "ba069eac-6320-4e2a-944d-1271360d4d06",
     "showTitle": false,
     "title": ""
    }
   },
   "outputs": [
    {
     "output_type": "display_data",
     "data": {
      "text/html": [
       "<style scoped>\n",
       "  .table-result-container {\n",
       "    max-height: 300px;\n",
       "    overflow: auto;\n",
       "  }\n",
       "  table, th, td {\n",
       "    border: 1px solid black;\n",
       "    border-collapse: collapse;\n",
       "  }\n",
       "  th, td {\n",
       "    padding: 5px;\n",
       "  }\n",
       "  th {\n",
       "    text-align: left;\n",
       "  }\n",
       "</style><div class='table-result-container'><table class='table-result'><thead style='background-color: white'><tr><th>faceId</th><th>age</th><th>anger</th><th>contempt</th><th>disgust</th><th>fear</th><th>happiness</th><th>neutral</th><th>sadness</th><th>surprise</th><th>gender</th><th>capturetime</th><th>load_time</th><th>datetime_locally</th></tr></thead><tbody><tr><td>5e070e51-25fe-419d-a0c3-29ca76e43949</td><td>33.0</td><td>0.001</td><td>0.001</td><td>0.001</td><td>0.0</td><td>0.213</td><td>0.778</td><td>0.001</td><td>0.005</td><td>male</td><td>1686664001889</td><td>2023-06-15T07:58:48.640+0000</td><td>2023-06-13 13:46:41</td></tr><tr><td>ae19447c-c1f5-4648-b33b-ad7d385685f6</td><td>22.0</td><td>0.0</td><td>0.0</td><td>0.0</td><td>0.0</td><td>0.004</td><td>0.59</td><td>0.0</td><td>0.405</td><td>female</td><td>1686664001889</td><td>2023-06-15T07:58:48.640+0000</td><td>2023-06-13 13:46:41</td></tr><tr><td>83263eda-55c0-4084-81fb-475a8e80b600</td><td>33.0</td><td>0.001</td><td>0.005</td><td>0.001</td><td>0.0</td><td>0.379</td><td>0.613</td><td>0.001</td><td>0.001</td><td>male</td><td>1686664014173</td><td>2023-06-15T07:58:48.640+0000</td><td>2023-06-13 13:46:54</td></tr><tr><td>62c5f802-a317-40ce-b7ee-cf4c794a8938</td><td>28.0</td><td>0.0</td><td>0.002</td><td>0.0</td><td>0.0</td><td>0.38</td><td>0.585</td><td>0.0</td><td>0.033</td><td>female</td><td>1686664014173</td><td>2023-06-15T07:58:48.640+0000</td><td>2023-06-13 13:46:54</td></tr><tr><td>5432ce83-a7a7-48a2-bcfc-712104ae5bb8</td><td>26.0</td><td>0.0</td><td>0.001</td><td>0.0</td><td>0.0</td><td>0.86</td><td>0.139</td><td>0.0</td><td>0.0</td><td>male</td><td>1686815316856</td><td>2023-06-15T07:58:48.640+0000</td><td>2023-06-15 07:48:36</td></tr><tr><td>7d97b281-0c38-482e-a27b-da3523f84996</td><td>32.0</td><td>0.0</td><td>0.0</td><td>0.0</td><td>0.0</td><td>1.0</td><td>0.0</td><td>0.0</td><td>0.0</td><td>male</td><td>1686815316856</td><td>2023-06-15T07:58:48.640+0000</td><td>2023-06-15 07:48:36</td></tr><tr><td>f3e5d1c8-f654-4e3a-a186-8b3922f1788e</td><td>33.0</td><td>0.0</td><td>0.001</td><td>0.0</td><td>0.0</td><td>0.0</td><td>0.994</td><td>0.005</td><td>0.0</td><td>male</td><td>1686815350405</td><td>2023-06-15T07:58:48.640+0000</td><td>2023-06-15 07:49:10</td></tr><tr><td>c8fe8086-5bc1-4443-8558-3c474be92645</td><td>24.0</td><td>0.002</td><td>0.043</td><td>0.001</td><td>0.0</td><td>0.0</td><td>0.368</td><td>0.586</td><td>0.0</td><td>male</td><td>1686815350405</td><td>2023-06-15T07:58:48.640+0000</td><td>2023-06-15 07:49:10</td></tr><tr><td>25a07aae-c83f-4942-a793-11c8c7de2762</td><td>36.0</td><td>0.0</td><td>0.003</td><td>0.0</td><td>0.0</td><td>0.001</td><td>0.937</td><td>0.058</td><td>0.0</td><td>male</td><td>1686651247847</td><td>2023-06-15T07:58:48.640+0000</td><td>2023-06-13 10:14:07</td></tr><tr><td>00574007-e7df-4466-9f97-09800ee9c476</td><td>34.0</td><td>0.0</td><td>0.001</td><td>0.0</td><td>0.0</td><td>0.0</td><td>0.631</td><td>0.368</td><td>0.0</td><td>male</td><td>1686651259983</td><td>2023-06-15T07:58:48.640+0000</td><td>2023-06-13 10:14:19</td></tr><tr><td>e2b85513-8e2a-4f34-a28b-a817ecdf1973</td><td>34.0</td><td>0.0</td><td>0.003</td><td>0.0</td><td>0.0</td><td>0.0</td><td>0.965</td><td>0.032</td><td>0.0</td><td>male</td><td>1686651265877</td><td>2023-06-15T07:58:48.640+0000</td><td>2023-06-13 10:14:25</td></tr><tr><td>113e9db9-1c0a-47b8-be75-800497f6339d</td><td>34.0</td><td>0.0</td><td>0.0</td><td>0.0</td><td>0.0</td><td>1.0</td><td>0.0</td><td>0.0</td><td>0.0</td><td>male</td><td>1686810846127</td><td>2023-06-15T07:58:48.640+0000</td><td>2023-06-15 06:34:06</td></tr><tr><td>a8882090-40e5-4533-86be-c5c314f8828e</td><td>31.0</td><td>0.0</td><td>0.0</td><td>0.0</td><td>0.0</td><td>1.0</td><td>0.0</td><td>0.0</td><td>0.0</td><td>male</td><td>1686816945231</td><td>2023-06-15T08:15:51.800+0000</td><td>2023-06-15 08:15:45</td></tr><tr><td>399485db-499b-4861-a41b-ef588abcc7e2</td><td>44.0</td><td>0.0</td><td>0.0</td><td>0.0</td><td>0.0</td><td>1.0</td><td>0.0</td><td>0.0</td><td>0.0</td><td>male</td><td>1686816945231</td><td>2023-06-15T08:15:51.800+0000</td><td>2023-06-15 08:15:45</td></tr><tr><td>ad728614-4b5b-491d-bff5-58d61e6595ce</td><td>32.0</td><td>0.0</td><td>0.0</td><td>0.0</td><td>0.0</td><td>0.0</td><td>0.996</td><td>0.002</td><td>0.0</td><td>male</td><td>1686816951265</td><td>2023-06-15T08:15:57.029+0000</td><td>2023-06-15 08:15:51</td></tr><tr><td>26b09af2-760e-46e1-a75e-77af8f6dbfce</td><td>41.0</td><td>0.0</td><td>0.08</td><td>0.0</td><td>0.0</td><td>0.585</td><td>0.333</td><td>0.001</td><td>0.0</td><td>male</td><td>1686816951265</td><td>2023-06-15T08:15:57.029+0000</td><td>2023-06-15 08:15:51</td></tr><tr><td>e4e1ddfb-87d9-4028-b75b-db9f3d37228a</td><td>45.0</td><td>0.0</td><td>0.0</td><td>0.0</td><td>0.0</td><td>0.0</td><td>0.998</td><td>0.0</td><td>0.001</td><td>male</td><td>1686816963791</td><td>2023-06-15T08:16:09.895+0000</td><td>2023-06-15 08:16:03</td></tr><tr><td>9a9da835-a6d7-4054-8e8d-acdb7bde2ccb</td><td>33.0</td><td>0.0</td><td>0.001</td><td>0.0</td><td>0.0</td><td>0.0</td><td>0.944</td><td>0.055</td><td>0.0</td><td>male</td><td>1686816963791</td><td>2023-06-15T08:16:09.895+0000</td><td>2023-06-15 08:16:03</td></tr><tr><td>3318520b-3b8b-43b0-964a-101a9205fa07</td><td>27.0</td><td>0.006</td><td>0.0</td><td>0.0</td><td>0.002</td><td>0.802</td><td>0.065</td><td>0.005</td><td>0.119</td><td>male</td><td>1686816355873</td><td>2023-06-15T08:06:01.814+0000</td><td>2023-06-15 08:05:55</td></tr><tr><td>051dd44c-c70b-4adf-8be4-832c7fe5a40f</td><td>40.0</td><td>0.0</td><td>0.0</td><td>0.0</td><td>0.001</td><td>0.93</td><td>0.0</td><td>0.0</td><td>0.068</td><td>male</td><td>1686816355873</td><td>2023-06-15T08:06:01.814+0000</td><td>2023-06-15 08:05:55</td></tr><tr><td>1781db2a-b948-4154-af4e-d68a6e3ce509</td><td>33.0</td><td>0.0</td><td>0.0</td><td>0.0</td><td>0.0</td><td>1.0</td><td>0.0</td><td>0.0</td><td>0.0</td><td>male</td><td>1686816304217</td><td>2023-06-15T08:05:10.961+0000</td><td>2023-06-15 08:05:04</td></tr><tr><td>d90eb583-9863-4cd8-9fbb-e1dc5cca0b98</td><td>36.0</td><td>0.0</td><td>0.0</td><td>0.0</td><td>0.0</td><td>1.0</td><td>0.0</td><td>0.0</td><td>0.0</td><td>male</td><td>1686816324792</td><td>2023-06-15T08:05:30.697+0000</td><td>2023-06-15 08:05:24</td></tr><tr><td>829ee2fa-db41-4301-86c4-89b583220167</td><td>34.0</td><td>0.0</td><td>0.0</td><td>0.0</td><td>0.002</td><td>0.0</td><td>0.0</td><td>0.0</td><td>0.998</td><td>male</td><td>1686816315619</td><td>2023-06-15T08:05:21.771+0000</td><td>2023-06-15 08:05:15</td></tr></tbody></table></div>"
      ]
     },
     "metadata": {
      "application/vnd.databricks.v1+output": {
       "addedWidgets": {},
       "aggData": [],
       "aggError": "",
       "aggOverflow": false,
       "aggSchema": [],
       "aggSeriesLimitReached": false,
       "aggType": "",
       "arguments": {},
       "columnCustomDisplayInfos": {},
       "data": [
        [
         "5e070e51-25fe-419d-a0c3-29ca76e43949",
         33.0,
         0.001,
         0.001,
         0.001,
         0.0,
         0.213,
         0.778,
         0.001,
         0.005,
         "male",
         "1686664001889",
         "2023-06-15T07:58:48.640+0000",
         "2023-06-13 13:46:41"
        ],
        [
         "ae19447c-c1f5-4648-b33b-ad7d385685f6",
         22.0,
         0.0,
         0.0,
         0.0,
         0.0,
         0.004,
         0.59,
         0.0,
         0.405,
         "female",
         "1686664001889",
         "2023-06-15T07:58:48.640+0000",
         "2023-06-13 13:46:41"
        ],
        [
         "83263eda-55c0-4084-81fb-475a8e80b600",
         33.0,
         0.001,
         0.005,
         0.001,
         0.0,
         0.379,
         0.613,
         0.001,
         0.001,
         "male",
         "1686664014173",
         "2023-06-15T07:58:48.640+0000",
         "2023-06-13 13:46:54"
        ],
        [
         "62c5f802-a317-40ce-b7ee-cf4c794a8938",
         28.0,
         0.0,
         0.002,
         0.0,
         0.0,
         0.38,
         0.585,
         0.0,
         0.033,
         "female",
         "1686664014173",
         "2023-06-15T07:58:48.640+0000",
         "2023-06-13 13:46:54"
        ],
        [
         "5432ce83-a7a7-48a2-bcfc-712104ae5bb8",
         26.0,
         0.0,
         0.001,
         0.0,
         0.0,
         0.86,
         0.139,
         0.0,
         0.0,
         "male",
         "1686815316856",
         "2023-06-15T07:58:48.640+0000",
         "2023-06-15 07:48:36"
        ],
        [
         "7d97b281-0c38-482e-a27b-da3523f84996",
         32.0,
         0.0,
         0.0,
         0.0,
         0.0,
         1.0,
         0.0,
         0.0,
         0.0,
         "male",
         "1686815316856",
         "2023-06-15T07:58:48.640+0000",
         "2023-06-15 07:48:36"
        ],
        [
         "f3e5d1c8-f654-4e3a-a186-8b3922f1788e",
         33.0,
         0.0,
         0.001,
         0.0,
         0.0,
         0.0,
         0.994,
         0.005,
         0.0,
         "male",
         "1686815350405",
         "2023-06-15T07:58:48.640+0000",
         "2023-06-15 07:49:10"
        ],
        [
         "c8fe8086-5bc1-4443-8558-3c474be92645",
         24.0,
         0.002,
         0.043,
         0.001,
         0.0,
         0.0,
         0.368,
         0.586,
         0.0,
         "male",
         "1686815350405",
         "2023-06-15T07:58:48.640+0000",
         "2023-06-15 07:49:10"
        ],
        [
         "25a07aae-c83f-4942-a793-11c8c7de2762",
         36.0,
         0.0,
         0.003,
         0.0,
         0.0,
         0.001,
         0.937,
         0.058,
         0.0,
         "male",
         "1686651247847",
         "2023-06-15T07:58:48.640+0000",
         "2023-06-13 10:14:07"
        ],
        [
         "00574007-e7df-4466-9f97-09800ee9c476",
         34.0,
         0.0,
         0.001,
         0.0,
         0.0,
         0.0,
         0.631,
         0.368,
         0.0,
         "male",
         "1686651259983",
         "2023-06-15T07:58:48.640+0000",
         "2023-06-13 10:14:19"
        ],
        [
         "e2b85513-8e2a-4f34-a28b-a817ecdf1973",
         34.0,
         0.0,
         0.003,
         0.0,
         0.0,
         0.0,
         0.965,
         0.032,
         0.0,
         "male",
         "1686651265877",
         "2023-06-15T07:58:48.640+0000",
         "2023-06-13 10:14:25"
        ],
        [
         "113e9db9-1c0a-47b8-be75-800497f6339d",
         34.0,
         0.0,
         0.0,
         0.0,
         0.0,
         1.0,
         0.0,
         0.0,
         0.0,
         "male",
         "1686810846127",
         "2023-06-15T07:58:48.640+0000",
         "2023-06-15 06:34:06"
        ],
        [
         "a8882090-40e5-4533-86be-c5c314f8828e",
         31.0,
         0.0,
         0.0,
         0.0,
         0.0,
         1.0,
         0.0,
         0.0,
         0.0,
         "male",
         "1686816945231",
         "2023-06-15T08:15:51.800+0000",
         "2023-06-15 08:15:45"
        ],
        [
         "399485db-499b-4861-a41b-ef588abcc7e2",
         44.0,
         0.0,
         0.0,
         0.0,
         0.0,
         1.0,
         0.0,
         0.0,
         0.0,
         "male",
         "1686816945231",
         "2023-06-15T08:15:51.800+0000",
         "2023-06-15 08:15:45"
        ],
        [
         "ad728614-4b5b-491d-bff5-58d61e6595ce",
         32.0,
         0.0,
         0.0,
         0.0,
         0.0,
         0.0,
         0.996,
         0.002,
         0.0,
         "male",
         "1686816951265",
         "2023-06-15T08:15:57.029+0000",
         "2023-06-15 08:15:51"
        ],
        [
         "26b09af2-760e-46e1-a75e-77af8f6dbfce",
         41.0,
         0.0,
         0.08,
         0.0,
         0.0,
         0.585,
         0.333,
         0.001,
         0.0,
         "male",
         "1686816951265",
         "2023-06-15T08:15:57.029+0000",
         "2023-06-15 08:15:51"
        ],
        [
         "e4e1ddfb-87d9-4028-b75b-db9f3d37228a",
         45.0,
         0.0,
         0.0,
         0.0,
         0.0,
         0.0,
         0.998,
         0.0,
         0.001,
         "male",
         "1686816963791",
         "2023-06-15T08:16:09.895+0000",
         "2023-06-15 08:16:03"
        ],
        [
         "9a9da835-a6d7-4054-8e8d-acdb7bde2ccb",
         33.0,
         0.0,
         0.001,
         0.0,
         0.0,
         0.0,
         0.944,
         0.055,
         0.0,
         "male",
         "1686816963791",
         "2023-06-15T08:16:09.895+0000",
         "2023-06-15 08:16:03"
        ],
        [
         "3318520b-3b8b-43b0-964a-101a9205fa07",
         27.0,
         0.006,
         0.0,
         0.0,
         0.002,
         0.802,
         0.065,
         0.005,
         0.119,
         "male",
         "1686816355873",
         "2023-06-15T08:06:01.814+0000",
         "2023-06-15 08:05:55"
        ],
        [
         "051dd44c-c70b-4adf-8be4-832c7fe5a40f",
         40.0,
         0.0,
         0.0,
         0.0,
         0.001,
         0.93,
         0.0,
         0.0,
         0.068,
         "male",
         "1686816355873",
         "2023-06-15T08:06:01.814+0000",
         "2023-06-15 08:05:55"
        ],
        [
         "1781db2a-b948-4154-af4e-d68a6e3ce509",
         33.0,
         0.0,
         0.0,
         0.0,
         0.0,
         1.0,
         0.0,
         0.0,
         0.0,
         "male",
         "1686816304217",
         "2023-06-15T08:05:10.961+0000",
         "2023-06-15 08:05:04"
        ],
        [
         "d90eb583-9863-4cd8-9fbb-e1dc5cca0b98",
         36.0,
         0.0,
         0.0,
         0.0,
         0.0,
         1.0,
         0.0,
         0.0,
         0.0,
         "male",
         "1686816324792",
         "2023-06-15T08:05:30.697+0000",
         "2023-06-15 08:05:24"
        ],
        [
         "829ee2fa-db41-4301-86c4-89b583220167",
         34.0,
         0.0,
         0.0,
         0.0,
         0.002,
         0.0,
         0.0,
         0.0,
         0.998,
         "male",
         "1686816315619",
         "2023-06-15T08:05:21.771+0000",
         "2023-06-15 08:05:15"
        ]
       ],
       "datasetInfos": [
        {
         "name": "_sqldf",
         "schema": {
          "fields": [
           {
            "metadata": {},
            "name": "faceId",
            "nullable": true,
            "type": "string"
           },
           {
            "metadata": {},
            "name": "age",
            "nullable": true,
            "type": "double"
           },
           {
            "metadata": {},
            "name": "anger",
            "nullable": true,
            "type": "double"
           },
           {
            "metadata": {},
            "name": "contempt",
            "nullable": true,
            "type": "double"
           },
           {
            "metadata": {},
            "name": "disgust",
            "nullable": true,
            "type": "double"
           },
           {
            "metadata": {},
            "name": "fear",
            "nullable": true,
            "type": "double"
           },
           {
            "metadata": {},
            "name": "happiness",
            "nullable": true,
            "type": "double"
           },
           {
            "metadata": {},
            "name": "neutral",
            "nullable": true,
            "type": "double"
           },
           {
            "metadata": {},
            "name": "sadness",
            "nullable": true,
            "type": "double"
           },
           {
            "metadata": {},
            "name": "surprise",
            "nullable": true,
            "type": "double"
           },
           {
            "metadata": {},
            "name": "gender",
            "nullable": true,
            "type": "string"
           },
           {
            "metadata": {},
            "name": "capturetime",
            "nullable": true,
            "type": "string"
           },
           {
            "metadata": {},
            "name": "load_time",
            "nullable": true,
            "type": "timestamp"
           },
           {
            "metadata": {},
            "name": "datetime_locally",
            "nullable": true,
            "type": "string"
           }
          ],
          "type": "struct"
         },
         "tableIdentifier": null,
         "typeStr": "pyspark.sql.dataframe.DataFrame"
        }
       ],
       "dbfsResultPath": null,
       "isJsonSchema": true,
       "metadata": {
        "dataframeName": "_sqldf",
        "executionCount": 1
       },
       "overflow": false,
       "plotOptions": {
        "customPlotOptions": {},
        "displayType": "table",
        "pivotAggregation": null,
        "pivotColumns": null,
        "xColumns": null,
        "yColumns": null
       },
       "removedWidgets": [],
       "schema": [
        {
         "metadata": "{}",
         "name": "faceId",
         "type": "\"string\""
        },
        {
         "metadata": "{}",
         "name": "age",
         "type": "\"double\""
        },
        {
         "metadata": "{}",
         "name": "anger",
         "type": "\"double\""
        },
        {
         "metadata": "{}",
         "name": "contempt",
         "type": "\"double\""
        },
        {
         "metadata": "{}",
         "name": "disgust",
         "type": "\"double\""
        },
        {
         "metadata": "{}",
         "name": "fear",
         "type": "\"double\""
        },
        {
         "metadata": "{}",
         "name": "happiness",
         "type": "\"double\""
        },
        {
         "metadata": "{}",
         "name": "neutral",
         "type": "\"double\""
        },
        {
         "metadata": "{}",
         "name": "sadness",
         "type": "\"double\""
        },
        {
         "metadata": "{}",
         "name": "surprise",
         "type": "\"double\""
        },
        {
         "metadata": "{}",
         "name": "gender",
         "type": "\"string\""
        },
        {
         "metadata": "{}",
         "name": "capturetime",
         "type": "\"string\""
        },
        {
         "metadata": "{}",
         "name": "load_time",
         "type": "\"timestamp\""
        },
        {
         "metadata": "{}",
         "name": "datetime_locally",
         "type": "\"string\""
        }
       ],
       "type": "table"
      }
     },
     "output_type": "display_data"
    }
   ],
   "source": [
    "%sql\n",
    "select *, from_unixtime(capturetime / 1000) AS datetime_locally from db_hack.bronze.stg_face_api_json_3"
   ]
  },
  {
   "cell_type": "markdown",
   "metadata": {
    "application/vnd.databricks.v1+cell": {
     "cellMetadata": {},
     "inputWidgets": {},
     "nuid": "22034c14-78f6-42b8-a17b-e95d9ed19ad1",
     "showTitle": false,
     "title": ""
    }
   },
   "source": [
    "Create stream for OpenAI LLM model after streaming images from FACE API"
   ]
  },
  {
   "cell_type": "code",
   "execution_count": 0,
   "metadata": {
    "application/vnd.databricks.v1+cell": {
     "cellMetadata": {
      "byteLimit": 2048000,
      "rowLimit": 10000
     },
     "inputWidgets": {},
     "nuid": "8fa9a131-ad05-42fd-9df2-8f8181f3ddc7",
     "showTitle": false,
     "title": ""
    }
   },
   "outputs": [],
   "source": [
    "def openai_api_call(content):\n",
    "    # Set API variables\n",
    "    #Note: The openai-python library support for Azure OpenAI is in preview.\n",
    "    openai.api_type = \"azure\"\n",
    "    openai.api_base = \"https://hackathon-2023.openai.azure.com/\"\n",
    "    openai.api_version = \"2023-03-15-preview\"\n",
    "    openai.api_key = \"af8e3b8b773642b4b440ad3fce72416a\" #os.getenv(\"OPENAI_API_KEY\")\n",
    "    #\"https://hackathon-2023.openai.azure.com/openai/deployments/hackathon-2023/chat/completions?api-version=2023-03-15-preview\"\n",
    "    \n",
    "    first_run = True\n",
    "    message = \"\"\n",
    "    \n",
    "    if first_run:\n",
    "        message = [{\"role\":\"system\",\"content\":\"You are an AI storyteller that adjust a story depending on the mood of the reader.\"},\n",
    "                    {\"role\": \"user\", \"content\": \"Tell me the first 5 sentences of the story about shrek\"}]\n",
    "        first_run = False\n",
    "    else:\n",
    "        message = [{\"role\":\"system\",\"content\":\"You are an AI storyteller that adjust a story depending on the mood of the reader.\"},\n",
    "                    {\"role\": \"user\", \"content\": \"Tell me the first 5 sentences of the story about shrek but keep in mind that the reader is \" + str(content) + \", make the reader change his mood by modiffying the story dramatically\"}]\n",
    "\n",
    "    try:\n",
    "        response = openai.ChatCompletion.create(\n",
    "        engine=\"hackathon-2023\",\n",
    "        messages = message,\n",
    "        temperature=0.7,\n",
    "        max_tokens=800,\n",
    "        top_p=0.95,\n",
    "        frequency_penalty=0,\n",
    "        presence_penalty=0,\n",
    "        stop=None)\n",
    "\n",
    "        resp_message = response.choices[0].message.content.strip()\n",
    "        \n",
    "        # resp_message: role assistant, message: role user\n",
    "        return resp_message\n",
    "    except openai.error.InvalidRequestError as e:\n",
    "        return None\n",
    "\n",
    "# Register function as UDF\n",
    "openai_api_call_udf = udf(openai_api_call)\n",
    "\n",
    "def process_batch(df, epoch_id):\n",
    "    # Call transribe UDF -> get transciption and add as column\n",
    "    df = df.withColumn(\"transcription\", openai_api_call_udf(df.leading_emotion))\n",
    "    # Write the data to Delta table\n",
    "    df.write.format(\"delta\").mode(\"append\").saveAsTable(trg_delta_table_silver)\n",
    "\n",
    "df = (spark.readStream \\\n",
    "    .format(\"delta\") \\\n",
    "    .option(\"inferColumnTypes\", \"true\") \\\n",
    "    .table(source_delta_table) \\\n",
    "    .withColumn(\"leading_emotion\", F.when(F.col(\"happiness\") == F.greatest(F.col(\"happiness\"), F.col(\"sadness\")), F.lit(\"happy\")) \\\n",
    "    .otherwise(F.lit(\"sad\"))))\n",
    "\n",
    "\n",
    "# Define a streaming query to process the data and wait for the query to terminate\n",
    "df.writeStream \\\n",
    "    .foreachBatch(process_batch) \\\n",
    "    .option(\"checkpointLocation\", checkpoint_delta) \\\n",
    "    .start() \\\n",
    "    .awaitTermination()"
   ]
  },
  {
   "cell_type": "code",
   "execution_count": 0,
   "metadata": {
    "application/vnd.databricks.v1+cell": {
     "cellMetadata": {
      "byteLimit": 2048000,
      "implicitDf": true,
      "rowLimit": 10000
     },
     "inputWidgets": {},
     "nuid": "8a4500e3-daa3-47d9-bf04-f04099d84ebf",
     "showTitle": false,
     "title": ""
    }
   },
   "outputs": [
    {
     "output_type": "display_data",
     "data": {
      "text/html": [
       "<style scoped>\n",
       "  .table-result-container {\n",
       "    max-height: 300px;\n",
       "    overflow: auto;\n",
       "  }\n",
       "  table, th, td {\n",
       "    border: 1px solid black;\n",
       "    border-collapse: collapse;\n",
       "  }\n",
       "  th, td {\n",
       "    padding: 5px;\n",
       "  }\n",
       "  th {\n",
       "    text-align: left;\n",
       "  }\n",
       "</style><div class='table-result-container'><table class='table-result'><thead style='background-color: white'><tr><th>faceId</th><th>age</th><th>anger</th><th>contempt</th><th>disgust</th><th>fear</th><th>happiness</th><th>neutral</th><th>sadness</th><th>surprise</th><th>gender</th><th>capturetime</th><th>load_time</th><th>leading_emotion</th><th>transcription</th></tr></thead><tbody><tr><td>bb251682-d794-4b16-9448-22adba121f26</td><td>33.0</td><td>0.025</td><td>0.115</td><td>0.004</td><td>0.0</td><td>0.001</td><td>0.464</td><td>0.391</td><td>0.0</td><td>male</td><td>1686837217229</td><td>2023-06-15T13:53:43.863+0000</td><td>sad</td><td>Once upon a time, in a faraway land, there lived an ogre named Shrek. He was big, green, and scary, and he lived alone in a swamp. Despite his fearsome appearance, Shrek had a heart of gold and longed for companionship. One day, his peaceful existence was disrupted when a group of fairy tale creatures appeared on his doorstep, seeking refuge from the cruel and vain Lord Farquaad.</td></tr><tr><td>7042dfe2-9f18-445a-8bad-1f30c6dc3a5e</td><td>31.0</td><td>0.0</td><td>0.003</td><td>0.0</td><td>0.0</td><td>0.614</td><td>0.383</td><td>0.0</td><td>0.0</td><td>male</td><td>1686837208369</td><td>2023-06-15T13:53:35.203+0000</td><td>happy</td><td>Once upon a time, in a faraway land, there lived a big, green, and ugly ogre named Shrek. He lived alone in a swamp, where he enjoyed his solitude and peaceful life. However, his life was soon to be disrupted by a group of unwanted visitors. A group of fairy tale creatures had been banished to his swamp by the evil Lord Farquaad, who ruled the neighboring kingdom.</td></tr><tr><td>ce584c81-dc76-4964-baa0-40c4e53414e0</td><td>33.0</td><td>0.0</td><td>0.0</td><td>0.0</td><td>0.0</td><td>1.0</td><td>0.0</td><td>0.0</td><td>0.0</td><td>male</td><td>1686836626180</td><td>2023-06-15T13:43:52.834+0000</td><td>happy</td><td>Once upon a time, in a faraway land, there was a green ogre named Shrek. He lived in a swamp that he called home and enjoyed his solitude. But one day, his peaceful life was disrupted when a group of fairy tale creatures were banished to his swamp by the evil Lord Farquaad. Shrek, being the grumpy ogre that he is, decided to confront Lord Farquaad and demand his swamp back.</td></tr><tr><td>2d0806b9-fe29-45ca-aab9-79e1b859bce7</td><td>32.0</td><td>0.0</td><td>0.0</td><td>0.003</td><td>0.0</td><td>0.123</td><td>0.0</td><td>0.873</td><td>0.0</td><td>male</td><td>1686836616989</td><td>2023-06-15T13:43:43.680+0000</td><td>sad</td><td>Once upon a time, in a land far, far away, there lived an ogre named Shrek. He was big, green, and had a scowl on his face that would make anyone tremble. Shrek lived in a swamp all by himself and was content with his solitude. But one day, his peaceful existence was disrupted by a group of fairy tale creatures who were forced to flee their homes by the evil Lord Farquaad.</td></tr><tr><td>3a0f5dff-d83b-44fb-a31b-a0dded98faf9</td><td>28.0</td><td>0.0</td><td>0.011</td><td>0.0</td><td>0.0</td><td>0.441</td><td>0.545</td><td>0.003</td><td>0.0</td><td>male</td><td>1686836015274</td><td>2023-06-15T13:33:41.839+0000</td><td>happy</td><td>Sure! Here's the beginning of the story:\n",
       "\n",
       "Once upon a time, in a faraway land, there lived an ogre named Shrek. He was big and green and had a face only a mother could love. Shrek lived a quiet life in his swamp, far away from the towns and cities where humans lived. But one day, everything changed when a group of fairy tale creatures showed up on his doorstep, seeking refuge from a tyrannical ruler.</td></tr><tr><td>50370c14-0de9-4e76-b293-832dfff7c661</td><td>33.0</td><td>0.0</td><td>0.0</td><td>0.0</td><td>0.0</td><td>1.0</td><td>0.0</td><td>0.0</td><td>0.0</td><td>male</td><td>1686835126239</td><td>2023-06-15T13:18:53.040+0000</td><td>happy</td><td>Once upon a time, in a far-off kingdom, there lived an ogre named Shrek. He was big, green, and very grumpy. Shrek lived in a swamp all by himself, and he liked it that way. But one day, his peaceful solitude was interrupted by a group of fairytale creatures who were banished to his swamp by the evil Lord Farquaad.</td></tr><tr><td>a422a6aa-53bb-408a-ad32-659c9df9549d</td><td>33.0</td><td>0.0</td><td>0.0</td><td>0.0</td><td>0.0</td><td>1.0</td><td>0.0</td><td>0.0</td><td>0.0</td><td>male</td><td>1686834520490</td><td>2023-06-15T13:08:47.275+0000</td><td>happy</td><td>Once upon a time, in a faraway swamp, there lived an ogre named Shrek. He was big, green and had a very grumpy personality. He loved his solitude, but his peace was disturbed when a group of fairytale creatures moved in and made themselves at home in his swamp. Shrek was not happy about this and decided to go to the ruler of the nearby kingdom, Lord Farquaad, to demand his swamp back.</td></tr><tr><td>c35e59bd-e691-46d8-9153-16946d71a9a2</td><td>30.0</td><td>0.015</td><td>0.003</td><td>0.0</td><td>0.0</td><td>0.0</td><td>0.678</td><td>0.304</td><td>0.0</td><td>male</td><td>1686833909247</td><td>2023-06-15T12:58:35.599+0000</td><td>sad</td><td>Sure! Here are the first 5 sentences of the story about Shrek:\n",
       "\n",
       "Once upon a time, in a faraway land, there lived an ogre named Shrek. He was big, green, and feared by all the people in the kingdom. But despite his intimidating appearance, Shrek was a kind-hearted creature who enjoyed his solitary life in a swamp. One day, however, his peaceful existence was disrupted when a group of fairytale creatures were banished to his swamp by the evil Lord Farquaad. Not wanting to share his home with anyone, Shrek set out to confront Lord Farquaad and demand that he remove the creatures from his land.</td></tr><tr><td>865d82f1-de57-4b65-90b5-ca79d6e73bfa</td><td>34.0</td><td>0.0</td><td>0.0</td><td>0.0</td><td>0.0</td><td>1.0</td><td>0.0</td><td>0.0</td><td>0.0</td><td>male</td><td>1686833886381</td><td>2023-06-15T12:58:13.732+0000</td><td>happy</td><td>Once upon a time in a faraway land, there lived a green ogre named Shrek. He was feared by all the villagers and was known for his grumpy and reclusive nature. Shrek lived in a swamp that he called home, away from the prying eyes of humans and other creatures. He was content with his simple life, spending his days scaring off anyone who dared to venture into his territory. But everything changed when a group of fairy tale creatures showed up in his swamp, seeking refuge from the wrath of a tyrannical ruler.</td></tr><tr><td>c214ca24-118d-4fc4-af85-1f4e909ec093</td><td>33.0</td><td>0.0</td><td>0.0</td><td>0.0</td><td>0.0</td><td>1.0</td><td>0.0</td><td>0.0</td><td>0.0</td><td>male</td><td>1686833392629</td><td>2023-06-15T12:49:59.007+0000</td><td>happy</td><td>Once upon a time, there was a green ogre named Shrek who lived in a faraway swamp. He was feared and misunderstood by the nearby villagers, who often judged him for his appearance and reputation. Shrek enjoyed his solitary life and didn't care for the opinions of others, but everything changed when a group of fairy tale creatures invaded his swamp. They were forced to flee their homes by Lord Farquaad, the ruthless ruler of Duloc, who wanted to create a perfect kingdom without any magical beings.</td></tr><tr><td>9c07e90a-2ff0-4952-ad43-af9719cc4723</td><td>32.0</td><td>0.001</td><td>0.009</td><td>0.0</td><td>0.0</td><td>0.0</td><td>0.935</td><td>0.054</td><td>0.0</td><td>male</td><td>1686833299996</td><td>2023-06-15T12:48:26.649+0000</td><td>sad</td><td>Sure, here's the first five sentences of a story about Shrek:\n",
       "\n",
       "Once upon a time, in a faraway land, there lived an ogre named Shrek. He was big, green and very grumpy. Shrek lived alone in a swamp and loved nothing more than his solitude. However, all that changed when a group of fairy tale creatures were banished to his swamp by the evil Lord Farquaad.</td></tr><tr><td>47362023-5470-4ac3-b81c-799cac781450</td><td>35.0</td><td>0.0</td><td>0.0</td><td>0.0</td><td>0.0</td><td>1.0</td><td>0.0</td><td>0.0</td><td>0.0</td><td>male</td><td>1686832533673</td><td>2023-06-15T12:35:40.159+0000</td><td>happy</td><td>Once upon a time, in a faraway land, there lived a green ogre named Shrek. He lived alone in his swamp and preferred it that way. But one day, his peaceful existence was interrupted by a group of fairy tale creatures who were banished to his swamp by the evil Lord Farquaad. Shrek was not pleased with this intrusion and decided to confront Lord Farquaad to get his swamp back.</td></tr><tr><td>025b4b6c-01b8-4766-be5b-488517756350</td><td>33.0</td><td>0.002</td><td>0.004</td><td>0.0</td><td>0.0</td><td>0.0</td><td>0.748</td><td>0.246</td><td>0.0</td><td>male</td><td>1686832242737</td><td>2023-06-15T12:30:49.338+0000</td><td>sad</td><td>Once upon a time, in a faraway land, there lived a reclusive ogre named Shrek. He was feared and misunderstood by the local villagers, who believed that all ogres were evil and dangerous creatures. Shrek, however, was quite content living in solitude, spending his days scaring off the occasional intruder and tending to his beloved swamp. But one day, his peaceful existence was disrupted when a group of fairy tale creatures, banished from their homes by the evil Lord Farquaad, sought refuge in his swamp.</td></tr><tr><td>bb8aae3b-480e-4512-97a5-56c65b391aca</td><td>33.0</td><td>0.0</td><td>0.0</td><td>0.0</td><td>0.0</td><td>0.0</td><td>0.998</td><td>0.002</td><td>0.0</td><td>male</td><td>1686832225729</td><td>2023-06-15T12:30:32.514+0000</td><td>sad</td><td>Sure, here's how the story about Shrek begins:\n",
       "\n",
       "Deep in the heart of a swamp, there lived a grumpy ogre named Shrek. He was big and burly, with green skin, sharp teeth, and ears that stuck out. Shrek loved his solitude and didn't take kindly to intruders, especially humans. But one day, his peaceful life was turned upside down when a bunch of fairy tale creatures showed up on his doorstep, seeking refuge from the cruel and ruthless Lord Farquaad.</td></tr><tr><td>e4e1ddfb-87d9-4028-b75b-db9f3d37228a</td><td>45.0</td><td>0.0</td><td>0.0</td><td>0.0</td><td>0.0</td><td>0.0</td><td>0.998</td><td>0.0</td><td>0.001</td><td>male</td><td>1686816963791</td><td>2023-06-15T08:16:09.895+0000</td><td>happy</td><td>Once upon a time, in a faraway swamp, there lived an ogre named Shrek. He was a big, green, and grumpy creature, who loved to spend his days alone in his swamp. One day, his peaceful life was interrupted by a group of fairy tale creatures, who were banished from their homes by the evil Lord Farquaad. Shrek, being the reluctant hero, decided to help these creatures and set out on a journey to confront Lord Farquaad. Along the way, he met a talkative donkey named Donkey, who joined him on his adventure.</td></tr><tr><td>9a9da835-a6d7-4054-8e8d-acdb7bde2ccb</td><td>33.0</td><td>0.0</td><td>0.001</td><td>0.0</td><td>0.0</td><td>0.0</td><td>0.944</td><td>0.055</td><td>0.0</td><td>male</td><td>1686816963791</td><td>2023-06-15T08:16:09.895+0000</td><td>sad</td><td>Once upon a time, in a faraway land, there lived a grumpy ogre named Shrek. He lived alone in his swamp and liked it that way. But one day, his peace was disturbed when a group of fairy tale creatures were banished to his swamp by the evil Lord Farquaad.</td></tr><tr><td>ad728614-4b5b-491d-bff5-58d61e6595ce</td><td>32.0</td><td>0.0</td><td>0.0</td><td>0.0</td><td>0.0</td><td>0.0</td><td>0.996</td><td>0.002</td><td>0.0</td><td>male</td><td>1686816951265</td><td>2023-06-15T08:15:57.029+0000</td><td>sad</td><td>Once upon a time, in a faraway swamp, there lived an ogre named Shrek. He was big, green and scary-looking, but he was also kind-hearted and gentle. Shrek preferred to live alone in his swamp, away from the judgmental eyes of society. One day, a group of fairy tale creatures were banished to his swamp by the evil Lord Farquaad, and Shrek's life was forever changed. And so, the unlikely hero Shrek set out on a quest to confront Lord Farquaad and save the fairy tale creatures from their unjust fate.</td></tr><tr><td>26b09af2-760e-46e1-a75e-77af8f6dbfce</td><td>41.0</td><td>0.0</td><td>0.08</td><td>0.0</td><td>0.0</td><td>0.585</td><td>0.333</td><td>0.001</td><td>0.0</td><td>male</td><td>1686816951265</td><td>2023-06-15T08:15:57.029+0000</td><td>happy</td><td>Once upon a time, in a faraway land, there lived a grumpy ogre named Shrek. He lived alone in a swamp, far away from any human settlement. Shrek had a reputation of being a fierce and fearsome monster, which kept most people away from his swamp. However, beneath his rough exterior, Shrek was actually a lonely soul who longed for companionship. One day, his solitude was interrupted by an unexpected visitor who would change his life forever.</td></tr><tr><td>a8882090-40e5-4533-86be-c5c314f8828e</td><td>31.0</td><td>0.0</td><td>0.0</td><td>0.0</td><td>0.0</td><td>1.0</td><td>0.0</td><td>0.0</td><td>0.0</td><td>male</td><td>1686816945231</td><td>2023-06-15T08:15:51.800+0000</td><td>happy</td><td>As the sun rose over the swamp, Shrek emerged from his cozy mud hut. He stretched his arms and yawned, taking in the fresh morning air. It was just another day in his solitary life, filled with quiet walks through the marshes and the occasional hunt for dinner. But today, something was different. A group of rowdy and unwanted visitors had arrived, and they were about to turn his peaceful existence upside down.</td></tr><tr><td>399485db-499b-4861-a41b-ef588abcc7e2</td><td>44.0</td><td>0.0</td><td>0.0</td><td>0.0</td><td>0.0</td><td>1.0</td><td>0.0</td><td>0.0</td><td>0.0</td><td>male</td><td>1686816945231</td><td>2023-06-15T08:15:51.800+0000</td><td>happy</td><td>Once upon a time, in a land far, far away, there lived a mean and nasty ogre named Shrek. He lived alone in a swamp, scaring off anyone who dared to come near. But despite his fearsome reputation, Shrek was actually quite lonely. He longed for companionship, but believed that no one could ever accept him for who he truly was. That is, until one day, when his life changed forever.</td></tr><tr><td>3318520b-3b8b-43b0-964a-101a9205fa07</td><td>27.0</td><td>0.006</td><td>0.0</td><td>0.0</td><td>0.002</td><td>0.802</td><td>0.065</td><td>0.005</td><td>0.119</td><td>male</td><td>1686816355873</td><td>2023-06-15T08:06:01.814+0000</td><td>happy</td><td>Sure! Here are the first 5 sentences of a story about Shrek:\n",
       "\n",
       "Once upon a time, in a faraway land, there lived a grumpy ogre named Shrek. He lived alone in his swamp, and he liked it that way. One day, a group of fairytale creatures showed up on his doorstep, seeking refuge from the evil Lord Farquaad. Shrek reluctantly agreed to help them, but only if they promised to leave his swamp as soon as possible. Little did he know, this decision would change his life forever.</td></tr><tr><td>051dd44c-c70b-4adf-8be4-832c7fe5a40f</td><td>40.0</td><td>0.0</td><td>0.0</td><td>0.0</td><td>0.001</td><td>0.93</td><td>0.0</td><td>0.0</td><td>0.068</td><td>male</td><td>1686816355873</td><td>2023-06-15T08:06:01.814+0000</td><td>happy</td><td>Once upon a time, in a far-off swamp, there lived an ogre named Shrek. He was a solitary creature who loved nothing more than his peaceful, quiet existence. But all of that changed one day when a group of fairy tale creatures showed up on his doorstep, seeking refuge from the cruel and tyrannical ruler of the nearby kingdom. Shrek agreed to take them in, but little did he know that this act of kindness would set off a chain of events that would change his life forever.</td></tr><tr><td>d90eb583-9863-4cd8-9fbb-e1dc5cca0b98</td><td>36.0</td><td>0.0</td><td>0.0</td><td>0.0</td><td>0.0</td><td>1.0</td><td>0.0</td><td>0.0</td><td>0.0</td><td>male</td><td>1686816324792</td><td>2023-06-15T08:05:30.697+0000</td><td>happy</td><td>Sure! Here are the first 5 sentences of a story about Shrek:\n",
       "\n",
       "Once upon a time, in a faraway land, there lived an ogre named Shrek. He was big and green, with sharp teeth and a gruff voice. Shrek lived alone in a swamp, away from the rest of the world. He liked it that way, because he didn't have to deal with anyone else's problems.</td></tr><tr><td>829ee2fa-db41-4301-86c4-89b583220167</td><td>34.0</td><td>0.0</td><td>0.0</td><td>0.0</td><td>0.002</td><td>0.0</td><td>0.0</td><td>0.0</td><td>0.998</td><td>male</td><td>1686816315619</td><td>2023-06-15T08:05:21.771+0000</td><td>happy</td><td>As the sun rose over the swamp, Shrek yawned and stretched his limbs. He looked around his home and smiled - it was just the way he liked it, quiet and peaceful. But that was about to change. Farquaad, the ruler of Duloc, had banished all the fairytale creatures to Shrek's swamp, and they were starting to make themselves at home. Shrek was not happy about this, and he decided to take matters into his own hands.</td></tr><tr><td>1781db2a-b948-4154-af4e-d68a6e3ce509</td><td>33.0</td><td>0.0</td><td>0.0</td><td>0.0</td><td>0.0</td><td>1.0</td><td>0.0</td><td>0.0</td><td>0.0</td><td>male</td><td>1686816304217</td><td>2023-06-15T08:05:10.961+0000</td><td>happy</td><td>Sure! Here are the first five sentences:\n",
       "\n",
       "In a faraway land, there was a green ogre named Shrek. He lived a solitary life in a swamp, far from the hustle and bustle of society. Despite his intimidating appearance, Shrek was actually quite gentle and kind-hearted. However, he had grown tired of living alone and yearned for companionship. One day, his peaceful existence was disrupted when a group of fairy tale creatures showed up on his doorstep, seeking refuge from the cruel and oppressive ruler of the land, Lord Farquaad.</td></tr><tr><td>5e070e51-25fe-419d-a0c3-29ca76e43949</td><td>33.0</td><td>0.001</td><td>0.001</td><td>0.001</td><td>0.0</td><td>0.213</td><td>0.778</td><td>0.001</td><td>0.005</td><td>male</td><td>1686664001889</td><td>2023-06-15T07:58:48.640+0000</td><td>happy</td><td>Sure, here's the beginning of a story about Shrek:\n",
       "\n",
       "Once upon a time, in a faraway land, there was an ogre named Shrek. He lived alone in his swamp, away from the rest of society. Despite his fearsome appearance, Shrek was actually quite a gentle giant at heart, preferring to spend his days fishing and reading instead of causing trouble. But one day, his peaceful life was interrupted when a group of fairytale creatures showed up on his doorstep, seeking refuge from the cruel Lord Farquaad.</td></tr><tr><td>ae19447c-c1f5-4648-b33b-ad7d385685f6</td><td>22.0</td><td>0.0</td><td>0.0</td><td>0.0</td><td>0.0</td><td>0.004</td><td>0.59</td><td>0.0</td><td>0.405</td><td>female</td><td>1686664001889</td><td>2023-06-15T07:58:48.640+0000</td><td>happy</td><td>Sure! Here are the first five sentences of a story about Shrek:\n",
       "\n",
       "Once upon a time, in a far-off swamp, there lived an ogre named Shrek. He was big, green, and terrifying, with a roar that could be heard for miles around. But despite his fearsome reputation, Shrek was actually quite content living alone in his swamp, away from the judgmental eyes of the world. He spent his days fishing, lounging in the mud, and scaring off any unwelcome visitors who dared to intrude on his peaceful solitude.</td></tr><tr><td>83263eda-55c0-4084-81fb-475a8e80b600</td><td>33.0</td><td>0.001</td><td>0.005</td><td>0.001</td><td>0.0</td><td>0.379</td><td>0.613</td><td>0.001</td><td>0.001</td><td>male</td><td>1686664014173</td><td>2023-06-15T07:58:48.640+0000</td><td>happy</td><td>Once upon a time, in a faraway land, there was a green ogre named Shrek. He lived alone in a swamp and enjoyed his peaceful life. However, everything changed when a group of fairytale creatures invaded his home. Angry and frustrated, Shrek decided to go to the ruler of the land, Lord Farquaad, to demand his swamp back.</td></tr><tr><td>62c5f802-a317-40ce-b7ee-cf4c794a8938</td><td>28.0</td><td>0.0</td><td>0.002</td><td>0.0</td><td>0.0</td><td>0.38</td><td>0.585</td><td>0.0</td><td>0.033</td><td>female</td><td>1686664014173</td><td>2023-06-15T07:58:48.640+0000</td><td>happy</td><td>As the sun rose over the swamp, a large green creature emerged from his humble abode. He stretched his arms and let out a mighty roar, scaring away any nearby animals. This was Shrek, the ogre who lived alone in his swamp, content with his solitude. But one day, his peaceful existence was disrupted by a group of unwanted visitors.</td></tr><tr><td>5432ce83-a7a7-48a2-bcfc-712104ae5bb8</td><td>26.0</td><td>0.0</td><td>0.001</td><td>0.0</td><td>0.0</td><td>0.86</td><td>0.139</td><td>0.0</td><td>0.0</td><td>male</td><td>1686815316856</td><td>2023-06-15T07:58:48.640+0000</td><td>happy</td><td>Once upon a time, in a faraway land, there lived an ogre named Shrek. He lived alone in his swamp, away from the world of humans and other fairy tale creatures. Shrek was content with his solitary life, spending his days fishing and relaxing in the mud. However, one day, his peace was disturbed when a group of fairy tale creatures were banished to his swamp by the evil Lord Farquaad.</td></tr><tr><td>7d97b281-0c38-482e-a27b-da3523f84996</td><td>32.0</td><td>0.0</td><td>0.0</td><td>0.0</td><td>0.0</td><td>1.0</td><td>0.0</td><td>0.0</td><td>0.0</td><td>male</td><td>1686815316856</td><td>2023-06-15T07:58:48.640+0000</td><td>happy</td><td>Once upon a time, in a land far, far away, there lived a green ogre named Shrek. He lived alone in a swamp and was content with his simple life. However, one day, his peaceful life was disrupted when a group of fairy tale creatures were banished to his swamp by the evil Lord Farquaad. Shrek was forced to embark on a journey to Farquaad's castle to demand his swamp back.</td></tr><tr><td>f3e5d1c8-f654-4e3a-a186-8b3922f1788e</td><td>33.0</td><td>0.0</td><td>0.001</td><td>0.0</td><td>0.0</td><td>0.0</td><td>0.994</td><td>0.005</td><td>0.0</td><td>male</td><td>1686815350405</td><td>2023-06-15T07:58:48.640+0000</td><td>sad</td><td>Sure, I would love to tell you a story about Shrek! Here are the first 5 sentences:\n",
       "\n",
       "Once upon a time, in a far-off kingdom, there lived an ogre named Shrek. He was feared and ostracized by the humans in the surrounding villages, who believed that all ogres were evil and dangerous. But Shrek was actually a gentle giant who preferred to keep to himself and enjoy his solitude in the swamp. That is, until one day when his peaceful existence was interrupted by a group of fairytale creatures who had been banished from their homes by the tyrannical Lord Farquaad. And so, Shrek embarked on a quest to confront Lord Farquaad and win back his beloved swamp.</td></tr><tr><td>c8fe8086-5bc1-4443-8558-3c474be92645</td><td>24.0</td><td>0.002</td><td>0.043</td><td>0.001</td><td>0.0</td><td>0.0</td><td>0.368</td><td>0.586</td><td>0.0</td><td>male</td><td>1686815350405</td><td>2023-06-15T07:58:48.640+0000</td><td>sad</td><td>Of all the creatures that roamed the land, Shrek was the most feared. His hulking green frame and fierce demeanor struck terror into the hearts of all who crossed his path. But beneath his fearsome exterior lay a heart of gold, and a loneliness that gnawed at him day and night. Shrek longed for companionship, but every time he tried to make friends, his fearsome reputation scared them away. He spent his days wandering the marshes, hoping that one day he would find someone who could see past his fearsome exterior and befriend him.</td></tr><tr><td>25a07aae-c83f-4942-a793-11c8c7de2762</td><td>36.0</td><td>0.0</td><td>0.003</td><td>0.0</td><td>0.0</td><td>0.001</td><td>0.937</td><td>0.058</td><td>0.0</td><td>male</td><td>1686651247847</td><td>2023-06-15T07:58:48.640+0000</td><td>sad</td><td>Once upon a time, in a faraway land, there was a green ogre named Shrek. He lived in a swamp that he called home, and he enjoyed his solitary life. One day, the peaceful life of Shrek was disrupted when a group of fairy tale creatures were banished to his swamp by the evil Lord Farquaad. Frustrated by the unwanted visitors, Shrek decided to confront Lord Farquaad and demand that the creatures be removed from his home.</td></tr><tr><td>00574007-e7df-4466-9f97-09800ee9c476</td><td>34.0</td><td>0.0</td><td>0.001</td><td>0.0</td><td>0.0</td><td>0.0</td><td>0.631</td><td>0.368</td><td>0.0</td><td>male</td><td>1686651259983</td><td>2023-06-15T07:58:48.640+0000</td><td>sad</td><td>Sure! Here are the first 5 sentences of the story about Shrek:\n",
       "\n",
       "Once upon a time, in a far-off land, there lived a solitary ogre named Shrek. He resided in a remote swamp, far from the hustle and bustle of the nearby town. Shrek was a fearsome sight to behold, with his large green body and menacing teeth. He was content living a solitary life in his swamp, away from the judgmental eyes of society. But one day, everything changed.</td></tr><tr><td>e2b85513-8e2a-4f34-a28b-a817ecdf1973</td><td>34.0</td><td>0.0</td><td>0.003</td><td>0.0</td><td>0.0</td><td>0.0</td><td>0.965</td><td>0.032</td><td>0.0</td><td>male</td><td>1686651265877</td><td>2023-06-15T07:58:48.640+0000</td><td>sad</td><td>Once upon a time, in a faraway land, there lived a grumpy ogre named Shrek. He lived in a swamp and enjoyed his solitude, away from the world that often rejected him. One day, his peaceful life was disrupted by the arrival of several fairy tale creatures who had been banished from their homes by the evil Lord Farquaad. Shrek, with his donkey sidekick, embarks on a journey to confront Farquaad and save his swamp. Along the way, he meets a beautiful princess named Fiona, who may just be the key to ending his loneliness.</td></tr><tr><td>113e9db9-1c0a-47b8-be75-800497f6339d</td><td>34.0</td><td>0.0</td><td>0.0</td><td>0.0</td><td>0.0</td><td>1.0</td><td>0.0</td><td>0.0</td><td>0.0</td><td>male</td><td>1686810846127</td><td>2023-06-15T07:58:48.640+0000</td><td>happy</td><td>As the sun rose over the swamp, a grumpy and green ogre named Shrek emerged from his cozy mud hole. He stretched his arms and let out a loud yawn, feeling the morning dew on his skin. He looked around and saw his beloved home, which he shared with his best friend, a talkative donkey named Donkey. Shrek felt content with his simple life, but little did he know that a group of fairy tale creatures were about to turn his world upside down.</td></tr></tbody></table></div>"
      ]
     },
     "metadata": {
      "application/vnd.databricks.v1+output": {
       "addedWidgets": {},
       "aggData": [],
       "aggError": "",
       "aggOverflow": false,
       "aggSchema": [],
       "aggSeriesLimitReached": false,
       "aggType": "",
       "arguments": {},
       "columnCustomDisplayInfos": {},
       "data": [
        [
         "bb251682-d794-4b16-9448-22adba121f26",
         33.0,
         0.025,
         0.115,
         0.004,
         0.0,
         0.001,
         0.464,
         0.391,
         0.0,
         "male",
         "1686837217229",
         "2023-06-15T13:53:43.863+0000",
         "sad",
         "Once upon a time, in a faraway land, there lived an ogre named Shrek. He was big, green, and scary, and he lived alone in a swamp. Despite his fearsome appearance, Shrek had a heart of gold and longed for companionship. One day, his peaceful existence was disrupted when a group of fairy tale creatures appeared on his doorstep, seeking refuge from the cruel and vain Lord Farquaad."
        ],
        [
         "7042dfe2-9f18-445a-8bad-1f30c6dc3a5e",
         31.0,
         0.0,
         0.003,
         0.0,
         0.0,
         0.614,
         0.383,
         0.0,
         0.0,
         "male",
         "1686837208369",
         "2023-06-15T13:53:35.203+0000",
         "happy",
         "Once upon a time, in a faraway land, there lived a big, green, and ugly ogre named Shrek. He lived alone in a swamp, where he enjoyed his solitude and peaceful life. However, his life was soon to be disrupted by a group of unwanted visitors. A group of fairy tale creatures had been banished to his swamp by the evil Lord Farquaad, who ruled the neighboring kingdom."
        ],
        [
         "ce584c81-dc76-4964-baa0-40c4e53414e0",
         33.0,
         0.0,
         0.0,
         0.0,
         0.0,
         1.0,
         0.0,
         0.0,
         0.0,
         "male",
         "1686836626180",
         "2023-06-15T13:43:52.834+0000",
         "happy",
         "Once upon a time, in a faraway land, there was a green ogre named Shrek. He lived in a swamp that he called home and enjoyed his solitude. But one day, his peaceful life was disrupted when a group of fairy tale creatures were banished to his swamp by the evil Lord Farquaad. Shrek, being the grumpy ogre that he is, decided to confront Lord Farquaad and demand his swamp back."
        ],
        [
         "2d0806b9-fe29-45ca-aab9-79e1b859bce7",
         32.0,
         0.0,
         0.0,
         0.003,
         0.0,
         0.123,
         0.0,
         0.873,
         0.0,
         "male",
         "1686836616989",
         "2023-06-15T13:43:43.680+0000",
         "sad",
         "Once upon a time, in a land far, far away, there lived an ogre named Shrek. He was big, green, and had a scowl on his face that would make anyone tremble. Shrek lived in a swamp all by himself and was content with his solitude. But one day, his peaceful existence was disrupted by a group of fairy tale creatures who were forced to flee their homes by the evil Lord Farquaad."
        ],
        [
         "3a0f5dff-d83b-44fb-a31b-a0dded98faf9",
         28.0,
         0.0,
         0.011,
         0.0,
         0.0,
         0.441,
         0.545,
         0.003,
         0.0,
         "male",
         "1686836015274",
         "2023-06-15T13:33:41.839+0000",
         "happy",
         "Sure! Here's the beginning of the story:\n\nOnce upon a time, in a faraway land, there lived an ogre named Shrek. He was big and green and had a face only a mother could love. Shrek lived a quiet life in his swamp, far away from the towns and cities where humans lived. But one day, everything changed when a group of fairy tale creatures showed up on his doorstep, seeking refuge from a tyrannical ruler."
        ],
        [
         "50370c14-0de9-4e76-b293-832dfff7c661",
         33.0,
         0.0,
         0.0,
         0.0,
         0.0,
         1.0,
         0.0,
         0.0,
         0.0,
         "male",
         "1686835126239",
         "2023-06-15T13:18:53.040+0000",
         "happy",
         "Once upon a time, in a far-off kingdom, there lived an ogre named Shrek. He was big, green, and very grumpy. Shrek lived in a swamp all by himself, and he liked it that way. But one day, his peaceful solitude was interrupted by a group of fairytale creatures who were banished to his swamp by the evil Lord Farquaad."
        ],
        [
         "a422a6aa-53bb-408a-ad32-659c9df9549d",
         33.0,
         0.0,
         0.0,
         0.0,
         0.0,
         1.0,
         0.0,
         0.0,
         0.0,
         "male",
         "1686834520490",
         "2023-06-15T13:08:47.275+0000",
         "happy",
         "Once upon a time, in a faraway swamp, there lived an ogre named Shrek. He was big, green and had a very grumpy personality. He loved his solitude, but his peace was disturbed when a group of fairytale creatures moved in and made themselves at home in his swamp. Shrek was not happy about this and decided to go to the ruler of the nearby kingdom, Lord Farquaad, to demand his swamp back."
        ],
        [
         "c35e59bd-e691-46d8-9153-16946d71a9a2",
         30.0,
         0.015,
         0.003,
         0.0,
         0.0,
         0.0,
         0.678,
         0.304,
         0.0,
         "male",
         "1686833909247",
         "2023-06-15T12:58:35.599+0000",
         "sad",
         "Sure! Here are the first 5 sentences of the story about Shrek:\n\nOnce upon a time, in a faraway land, there lived an ogre named Shrek. He was big, green, and feared by all the people in the kingdom. But despite his intimidating appearance, Shrek was a kind-hearted creature who enjoyed his solitary life in a swamp. One day, however, his peaceful existence was disrupted when a group of fairytale creatures were banished to his swamp by the evil Lord Farquaad. Not wanting to share his home with anyone, Shrek set out to confront Lord Farquaad and demand that he remove the creatures from his land."
        ],
        [
         "865d82f1-de57-4b65-90b5-ca79d6e73bfa",
         34.0,
         0.0,
         0.0,
         0.0,
         0.0,
         1.0,
         0.0,
         0.0,
         0.0,
         "male",
         "1686833886381",
         "2023-06-15T12:58:13.732+0000",
         "happy",
         "Once upon a time in a faraway land, there lived a green ogre named Shrek. He was feared by all the villagers and was known for his grumpy and reclusive nature. Shrek lived in a swamp that he called home, away from the prying eyes of humans and other creatures. He was content with his simple life, spending his days scaring off anyone who dared to venture into his territory. But everything changed when a group of fairy tale creatures showed up in his swamp, seeking refuge from the wrath of a tyrannical ruler."
        ],
        [
         "c214ca24-118d-4fc4-af85-1f4e909ec093",
         33.0,
         0.0,
         0.0,
         0.0,
         0.0,
         1.0,
         0.0,
         0.0,
         0.0,
         "male",
         "1686833392629",
         "2023-06-15T12:49:59.007+0000",
         "happy",
         "Once upon a time, there was a green ogre named Shrek who lived in a faraway swamp. He was feared and misunderstood by the nearby villagers, who often judged him for his appearance and reputation. Shrek enjoyed his solitary life and didn't care for the opinions of others, but everything changed when a group of fairy tale creatures invaded his swamp. They were forced to flee their homes by Lord Farquaad, the ruthless ruler of Duloc, who wanted to create a perfect kingdom without any magical beings."
        ],
        [
         "9c07e90a-2ff0-4952-ad43-af9719cc4723",
         32.0,
         0.001,
         0.009,
         0.0,
         0.0,
         0.0,
         0.935,
         0.054,
         0.0,
         "male",
         "1686833299996",
         "2023-06-15T12:48:26.649+0000",
         "sad",
         "Sure, here's the first five sentences of a story about Shrek:\n\nOnce upon a time, in a faraway land, there lived an ogre named Shrek. He was big, green and very grumpy. Shrek lived alone in a swamp and loved nothing more than his solitude. However, all that changed when a group of fairy tale creatures were banished to his swamp by the evil Lord Farquaad."
        ],
        [
         "47362023-5470-4ac3-b81c-799cac781450",
         35.0,
         0.0,
         0.0,
         0.0,
         0.0,
         1.0,
         0.0,
         0.0,
         0.0,
         "male",
         "1686832533673",
         "2023-06-15T12:35:40.159+0000",
         "happy",
         "Once upon a time, in a faraway land, there lived a green ogre named Shrek. He lived alone in his swamp and preferred it that way. But one day, his peaceful existence was interrupted by a group of fairy tale creatures who were banished to his swamp by the evil Lord Farquaad. Shrek was not pleased with this intrusion and decided to confront Lord Farquaad to get his swamp back."
        ],
        [
         "025b4b6c-01b8-4766-be5b-488517756350",
         33.0,
         0.002,
         0.004,
         0.0,
         0.0,
         0.0,
         0.748,
         0.246,
         0.0,
         "male",
         "1686832242737",
         "2023-06-15T12:30:49.338+0000",
         "sad",
         "Once upon a time, in a faraway land, there lived a reclusive ogre named Shrek. He was feared and misunderstood by the local villagers, who believed that all ogres were evil and dangerous creatures. Shrek, however, was quite content living in solitude, spending his days scaring off the occasional intruder and tending to his beloved swamp. But one day, his peaceful existence was disrupted when a group of fairy tale creatures, banished from their homes by the evil Lord Farquaad, sought refuge in his swamp."
        ],
        [
         "bb8aae3b-480e-4512-97a5-56c65b391aca",
         33.0,
         0.0,
         0.0,
         0.0,
         0.0,
         0.0,
         0.998,
         0.002,
         0.0,
         "male",
         "1686832225729",
         "2023-06-15T12:30:32.514+0000",
         "sad",
         "Sure, here's how the story about Shrek begins:\n\nDeep in the heart of a swamp, there lived a grumpy ogre named Shrek. He was big and burly, with green skin, sharp teeth, and ears that stuck out. Shrek loved his solitude and didn't take kindly to intruders, especially humans. But one day, his peaceful life was turned upside down when a bunch of fairy tale creatures showed up on his doorstep, seeking refuge from the cruel and ruthless Lord Farquaad."
        ],
        [
         "e4e1ddfb-87d9-4028-b75b-db9f3d37228a",
         45.0,
         0.0,
         0.0,
         0.0,
         0.0,
         0.0,
         0.998,
         0.0,
         0.001,
         "male",
         "1686816963791",
         "2023-06-15T08:16:09.895+0000",
         "happy",
         "Once upon a time, in a faraway swamp, there lived an ogre named Shrek. He was a big, green, and grumpy creature, who loved to spend his days alone in his swamp. One day, his peaceful life was interrupted by a group of fairy tale creatures, who were banished from their homes by the evil Lord Farquaad. Shrek, being the reluctant hero, decided to help these creatures and set out on a journey to confront Lord Farquaad. Along the way, he met a talkative donkey named Donkey, who joined him on his adventure."
        ],
        [
         "9a9da835-a6d7-4054-8e8d-acdb7bde2ccb",
         33.0,
         0.0,
         0.001,
         0.0,
         0.0,
         0.0,
         0.944,
         0.055,
         0.0,
         "male",
         "1686816963791",
         "2023-06-15T08:16:09.895+0000",
         "sad",
         "Once upon a time, in a faraway land, there lived a grumpy ogre named Shrek. He lived alone in his swamp and liked it that way. But one day, his peace was disturbed when a group of fairy tale creatures were banished to his swamp by the evil Lord Farquaad."
        ],
        [
         "ad728614-4b5b-491d-bff5-58d61e6595ce",
         32.0,
         0.0,
         0.0,
         0.0,
         0.0,
         0.0,
         0.996,
         0.002,
         0.0,
         "male",
         "1686816951265",
         "2023-06-15T08:15:57.029+0000",
         "sad",
         "Once upon a time, in a faraway swamp, there lived an ogre named Shrek. He was big, green and scary-looking, but he was also kind-hearted and gentle. Shrek preferred to live alone in his swamp, away from the judgmental eyes of society. One day, a group of fairy tale creatures were banished to his swamp by the evil Lord Farquaad, and Shrek's life was forever changed. And so, the unlikely hero Shrek set out on a quest to confront Lord Farquaad and save the fairy tale creatures from their unjust fate."
        ],
        [
         "26b09af2-760e-46e1-a75e-77af8f6dbfce",
         41.0,
         0.0,
         0.08,
         0.0,
         0.0,
         0.585,
         0.333,
         0.001,
         0.0,
         "male",
         "1686816951265",
         "2023-06-15T08:15:57.029+0000",
         "happy",
         "Once upon a time, in a faraway land, there lived a grumpy ogre named Shrek. He lived alone in a swamp, far away from any human settlement. Shrek had a reputation of being a fierce and fearsome monster, which kept most people away from his swamp. However, beneath his rough exterior, Shrek was actually a lonely soul who longed for companionship. One day, his solitude was interrupted by an unexpected visitor who would change his life forever."
        ],
        [
         "a8882090-40e5-4533-86be-c5c314f8828e",
         31.0,
         0.0,
         0.0,
         0.0,
         0.0,
         1.0,
         0.0,
         0.0,
         0.0,
         "male",
         "1686816945231",
         "2023-06-15T08:15:51.800+0000",
         "happy",
         "As the sun rose over the swamp, Shrek emerged from his cozy mud hut. He stretched his arms and yawned, taking in the fresh morning air. It was just another day in his solitary life, filled with quiet walks through the marshes and the occasional hunt for dinner. But today, something was different. A group of rowdy and unwanted visitors had arrived, and they were about to turn his peaceful existence upside down."
        ],
        [
         "399485db-499b-4861-a41b-ef588abcc7e2",
         44.0,
         0.0,
         0.0,
         0.0,
         0.0,
         1.0,
         0.0,
         0.0,
         0.0,
         "male",
         "1686816945231",
         "2023-06-15T08:15:51.800+0000",
         "happy",
         "Once upon a time, in a land far, far away, there lived a mean and nasty ogre named Shrek. He lived alone in a swamp, scaring off anyone who dared to come near. But despite his fearsome reputation, Shrek was actually quite lonely. He longed for companionship, but believed that no one could ever accept him for who he truly was. That is, until one day, when his life changed forever."
        ],
        [
         "3318520b-3b8b-43b0-964a-101a9205fa07",
         27.0,
         0.006,
         0.0,
         0.0,
         0.002,
         0.802,
         0.065,
         0.005,
         0.119,
         "male",
         "1686816355873",
         "2023-06-15T08:06:01.814+0000",
         "happy",
         "Sure! Here are the first 5 sentences of a story about Shrek:\n\nOnce upon a time, in a faraway land, there lived a grumpy ogre named Shrek. He lived alone in his swamp, and he liked it that way. One day, a group of fairytale creatures showed up on his doorstep, seeking refuge from the evil Lord Farquaad. Shrek reluctantly agreed to help them, but only if they promised to leave his swamp as soon as possible. Little did he know, this decision would change his life forever."
        ],
        [
         "051dd44c-c70b-4adf-8be4-832c7fe5a40f",
         40.0,
         0.0,
         0.0,
         0.0,
         0.001,
         0.93,
         0.0,
         0.0,
         0.068,
         "male",
         "1686816355873",
         "2023-06-15T08:06:01.814+0000",
         "happy",
         "Once upon a time, in a far-off swamp, there lived an ogre named Shrek. He was a solitary creature who loved nothing more than his peaceful, quiet existence. But all of that changed one day when a group of fairy tale creatures showed up on his doorstep, seeking refuge from the cruel and tyrannical ruler of the nearby kingdom. Shrek agreed to take them in, but little did he know that this act of kindness would set off a chain of events that would change his life forever."
        ],
        [
         "d90eb583-9863-4cd8-9fbb-e1dc5cca0b98",
         36.0,
         0.0,
         0.0,
         0.0,
         0.0,
         1.0,
         0.0,
         0.0,
         0.0,
         "male",
         "1686816324792",
         "2023-06-15T08:05:30.697+0000",
         "happy",
         "Sure! Here are the first 5 sentences of a story about Shrek:\n\nOnce upon a time, in a faraway land, there lived an ogre named Shrek. He was big and green, with sharp teeth and a gruff voice. Shrek lived alone in a swamp, away from the rest of the world. He liked it that way, because he didn't have to deal with anyone else's problems."
        ],
        [
         "829ee2fa-db41-4301-86c4-89b583220167",
         34.0,
         0.0,
         0.0,
         0.0,
         0.002,
         0.0,
         0.0,
         0.0,
         0.998,
         "male",
         "1686816315619",
         "2023-06-15T08:05:21.771+0000",
         "happy",
         "As the sun rose over the swamp, Shrek yawned and stretched his limbs. He looked around his home and smiled - it was just the way he liked it, quiet and peaceful. But that was about to change. Farquaad, the ruler of Duloc, had banished all the fairytale creatures to Shrek's swamp, and they were starting to make themselves at home. Shrek was not happy about this, and he decided to take matters into his own hands."
        ],
        [
         "1781db2a-b948-4154-af4e-d68a6e3ce509",
         33.0,
         0.0,
         0.0,
         0.0,
         0.0,
         1.0,
         0.0,
         0.0,
         0.0,
         "male",
         "1686816304217",
         "2023-06-15T08:05:10.961+0000",
         "happy",
         "Sure! Here are the first five sentences:\n\nIn a faraway land, there was a green ogre named Shrek. He lived a solitary life in a swamp, far from the hustle and bustle of society. Despite his intimidating appearance, Shrek was actually quite gentle and kind-hearted. However, he had grown tired of living alone and yearned for companionship. One day, his peaceful existence was disrupted when a group of fairy tale creatures showed up on his doorstep, seeking refuge from the cruel and oppressive ruler of the land, Lord Farquaad."
        ],
        [
         "5e070e51-25fe-419d-a0c3-29ca76e43949",
         33.0,
         0.001,
         0.001,
         0.001,
         0.0,
         0.213,
         0.778,
         0.001,
         0.005,
         "male",
         "1686664001889",
         "2023-06-15T07:58:48.640+0000",
         "happy",
         "Sure, here's the beginning of a story about Shrek:\n\nOnce upon a time, in a faraway land, there was an ogre named Shrek. He lived alone in his swamp, away from the rest of society. Despite his fearsome appearance, Shrek was actually quite a gentle giant at heart, preferring to spend his days fishing and reading instead of causing trouble. But one day, his peaceful life was interrupted when a group of fairytale creatures showed up on his doorstep, seeking refuge from the cruel Lord Farquaad."
        ],
        [
         "ae19447c-c1f5-4648-b33b-ad7d385685f6",
         22.0,
         0.0,
         0.0,
         0.0,
         0.0,
         0.004,
         0.59,
         0.0,
         0.405,
         "female",
         "1686664001889",
         "2023-06-15T07:58:48.640+0000",
         "happy",
         "Sure! Here are the first five sentences of a story about Shrek:\n\nOnce upon a time, in a far-off swamp, there lived an ogre named Shrek. He was big, green, and terrifying, with a roar that could be heard for miles around. But despite his fearsome reputation, Shrek was actually quite content living alone in his swamp, away from the judgmental eyes of the world. He spent his days fishing, lounging in the mud, and scaring off any unwelcome visitors who dared to intrude on his peaceful solitude."
        ],
        [
         "83263eda-55c0-4084-81fb-475a8e80b600",
         33.0,
         0.001,
         0.005,
         0.001,
         0.0,
         0.379,
         0.613,
         0.001,
         0.001,
         "male",
         "1686664014173",
         "2023-06-15T07:58:48.640+0000",
         "happy",
         "Once upon a time, in a faraway land, there was a green ogre named Shrek. He lived alone in a swamp and enjoyed his peaceful life. However, everything changed when a group of fairytale creatures invaded his home. Angry and frustrated, Shrek decided to go to the ruler of the land, Lord Farquaad, to demand his swamp back."
        ],
        [
         "62c5f802-a317-40ce-b7ee-cf4c794a8938",
         28.0,
         0.0,
         0.002,
         0.0,
         0.0,
         0.38,
         0.585,
         0.0,
         0.033,
         "female",
         "1686664014173",
         "2023-06-15T07:58:48.640+0000",
         "happy",
         "As the sun rose over the swamp, a large green creature emerged from his humble abode. He stretched his arms and let out a mighty roar, scaring away any nearby animals. This was Shrek, the ogre who lived alone in his swamp, content with his solitude. But one day, his peaceful existence was disrupted by a group of unwanted visitors."
        ],
        [
         "5432ce83-a7a7-48a2-bcfc-712104ae5bb8",
         26.0,
         0.0,
         0.001,
         0.0,
         0.0,
         0.86,
         0.139,
         0.0,
         0.0,
         "male",
         "1686815316856",
         "2023-06-15T07:58:48.640+0000",
         "happy",
         "Once upon a time, in a faraway land, there lived an ogre named Shrek. He lived alone in his swamp, away from the world of humans and other fairy tale creatures. Shrek was content with his solitary life, spending his days fishing and relaxing in the mud. However, one day, his peace was disturbed when a group of fairy tale creatures were banished to his swamp by the evil Lord Farquaad."
        ],
        [
         "7d97b281-0c38-482e-a27b-da3523f84996",
         32.0,
         0.0,
         0.0,
         0.0,
         0.0,
         1.0,
         0.0,
         0.0,
         0.0,
         "male",
         "1686815316856",
         "2023-06-15T07:58:48.640+0000",
         "happy",
         "Once upon a time, in a land far, far away, there lived a green ogre named Shrek. He lived alone in a swamp and was content with his simple life. However, one day, his peaceful life was disrupted when a group of fairy tale creatures were banished to his swamp by the evil Lord Farquaad. Shrek was forced to embark on a journey to Farquaad's castle to demand his swamp back."
        ],
        [
         "f3e5d1c8-f654-4e3a-a186-8b3922f1788e",
         33.0,
         0.0,
         0.001,
         0.0,
         0.0,
         0.0,
         0.994,
         0.005,
         0.0,
         "male",
         "1686815350405",
         "2023-06-15T07:58:48.640+0000",
         "sad",
         "Sure, I would love to tell you a story about Shrek! Here are the first 5 sentences:\n\nOnce upon a time, in a far-off kingdom, there lived an ogre named Shrek. He was feared and ostracized by the humans in the surrounding villages, who believed that all ogres were evil and dangerous. But Shrek was actually a gentle giant who preferred to keep to himself and enjoy his solitude in the swamp. That is, until one day when his peaceful existence was interrupted by a group of fairytale creatures who had been banished from their homes by the tyrannical Lord Farquaad. And so, Shrek embarked on a quest to confront Lord Farquaad and win back his beloved swamp."
        ],
        [
         "c8fe8086-5bc1-4443-8558-3c474be92645",
         24.0,
         0.002,
         0.043,
         0.001,
         0.0,
         0.0,
         0.368,
         0.586,
         0.0,
         "male",
         "1686815350405",
         "2023-06-15T07:58:48.640+0000",
         "sad",
         "Of all the creatures that roamed the land, Shrek was the most feared. His hulking green frame and fierce demeanor struck terror into the hearts of all who crossed his path. But beneath his fearsome exterior lay a heart of gold, and a loneliness that gnawed at him day and night. Shrek longed for companionship, but every time he tried to make friends, his fearsome reputation scared them away. He spent his days wandering the marshes, hoping that one day he would find someone who could see past his fearsome exterior and befriend him."
        ],
        [
         "25a07aae-c83f-4942-a793-11c8c7de2762",
         36.0,
         0.0,
         0.003,
         0.0,
         0.0,
         0.001,
         0.937,
         0.058,
         0.0,
         "male",
         "1686651247847",
         "2023-06-15T07:58:48.640+0000",
         "sad",
         "Once upon a time, in a faraway land, there was a green ogre named Shrek. He lived in a swamp that he called home, and he enjoyed his solitary life. One day, the peaceful life of Shrek was disrupted when a group of fairy tale creatures were banished to his swamp by the evil Lord Farquaad. Frustrated by the unwanted visitors, Shrek decided to confront Lord Farquaad and demand that the creatures be removed from his home."
        ],
        [
         "00574007-e7df-4466-9f97-09800ee9c476",
         34.0,
         0.0,
         0.001,
         0.0,
         0.0,
         0.0,
         0.631,
         0.368,
         0.0,
         "male",
         "1686651259983",
         "2023-06-15T07:58:48.640+0000",
         "sad",
         "Sure! Here are the first 5 sentences of the story about Shrek:\n\nOnce upon a time, in a far-off land, there lived a solitary ogre named Shrek. He resided in a remote swamp, far from the hustle and bustle of the nearby town. Shrek was a fearsome sight to behold, with his large green body and menacing teeth. He was content living a solitary life in his swamp, away from the judgmental eyes of society. But one day, everything changed."
        ],
        [
         "e2b85513-8e2a-4f34-a28b-a817ecdf1973",
         34.0,
         0.0,
         0.003,
         0.0,
         0.0,
         0.0,
         0.965,
         0.032,
         0.0,
         "male",
         "1686651265877",
         "2023-06-15T07:58:48.640+0000",
         "sad",
         "Once upon a time, in a faraway land, there lived a grumpy ogre named Shrek. He lived in a swamp and enjoyed his solitude, away from the world that often rejected him. One day, his peaceful life was disrupted by the arrival of several fairy tale creatures who had been banished from their homes by the evil Lord Farquaad. Shrek, with his donkey sidekick, embarks on a journey to confront Farquaad and save his swamp. Along the way, he meets a beautiful princess named Fiona, who may just be the key to ending his loneliness."
        ],
        [
         "113e9db9-1c0a-47b8-be75-800497f6339d",
         34.0,
         0.0,
         0.0,
         0.0,
         0.0,
         1.0,
         0.0,
         0.0,
         0.0,
         "male",
         "1686810846127",
         "2023-06-15T07:58:48.640+0000",
         "happy",
         "As the sun rose over the swamp, a grumpy and green ogre named Shrek emerged from his cozy mud hole. He stretched his arms and let out a loud yawn, feeling the morning dew on his skin. He looked around and saw his beloved home, which he shared with his best friend, a talkative donkey named Donkey. Shrek felt content with his simple life, but little did he know that a group of fairy tale creatures were about to turn his world upside down."
        ]
       ],
       "datasetInfos": [],
       "dbfsResultPath": null,
       "isJsonSchema": true,
       "metadata": {},
       "overflow": false,
       "plotOptions": {
        "customPlotOptions": {},
        "displayType": "table",
        "pivotAggregation": null,
        "pivotColumns": null,
        "xColumns": null,
        "yColumns": null
       },
       "removedWidgets": [],
       "schema": [
        {
         "metadata": "{}",
         "name": "faceId",
         "type": "\"string\""
        },
        {
         "metadata": "{}",
         "name": "age",
         "type": "\"double\""
        },
        {
         "metadata": "{}",
         "name": "anger",
         "type": "\"double\""
        },
        {
         "metadata": "{}",
         "name": "contempt",
         "type": "\"double\""
        },
        {
         "metadata": "{}",
         "name": "disgust",
         "type": "\"double\""
        },
        {
         "metadata": "{}",
         "name": "fear",
         "type": "\"double\""
        },
        {
         "metadata": "{}",
         "name": "happiness",
         "type": "\"double\""
        },
        {
         "metadata": "{}",
         "name": "neutral",
         "type": "\"double\""
        },
        {
         "metadata": "{}",
         "name": "sadness",
         "type": "\"double\""
        },
        {
         "metadata": "{}",
         "name": "surprise",
         "type": "\"double\""
        },
        {
         "metadata": "{}",
         "name": "gender",
         "type": "\"string\""
        },
        {
         "metadata": "{}",
         "name": "capturetime",
         "type": "\"string\""
        },
        {
         "metadata": "{}",
         "name": "load_time",
         "type": "\"timestamp\""
        },
        {
         "metadata": "{}",
         "name": "leading_emotion",
         "type": "\"string\""
        },
        {
         "metadata": "{}",
         "name": "transcription",
         "type": "\"string\""
        }
       ],
       "type": "table"
      }
     },
     "output_type": "display_data"
    }
   ],
   "source": [
    "%sql\n",
    "select * from db_hack.silver.shrek_story_5 order by load_time desc"
   ]
  }
 ],
 "metadata": {
  "application/vnd.databricks.v1+notebook": {
   "dashboards": [],
   "language": "python",
   "notebookMetadata": {
    "mostRecentlyExecutedCommandWithImplicitDF": {
     "commandId": -1,
     "dataframes": [
      "_sqldf"
     ]
    },
    "pythonIndentUnit": 4
   },
   "notebookName": "openAI_api_calls (1)",
   "widgets": {}
  }
 },
 "nbformat": 4,
 "nbformat_minor": 0
}
