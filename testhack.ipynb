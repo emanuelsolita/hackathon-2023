{
 "cells": [
  {
   "cell_type": "code",
   "execution_count": 2,
   "metadata": {},
   "outputs": [
    {
     "ename": "",
     "evalue": "",
     "output_type": "error",
     "traceback": [
      "\u001b[1;31mThe Kernel crashed while executing code in the the current cell or a previous cell. Please review the code in the cell(s) to identify a possible cause of the failure. Click <a href='https://aka.ms/vscodeJupyterKernelCrash'>here</a> for more info. View Jupyter <a href='command:jupyter.viewOutput'>log</a> for further details."
     ]
    }
   ],
   "source": [
    "import cv2\n",
    "\n",
    "# Windows dependencies\n",
    "# - Python 2.7.6: http://www.python.org/download/\n",
    "# - OpenCV: http://opencv.org/\n",
    "# - Numpy -- get numpy from here because the official builds don't support x64:\n",
    "#   http://www.lfd.uci.edu/~gohlke/pythonlibs/#numpy\n",
    "\n",
    "# Mac Dependencies\n",
    "# - brew install python\n",
    "# - pip install numpy\n",
    "# - brew tap homebrew/science\n",
    "# - brew install opencv\n",
    "\n",
    "\n",
    "cap = cv2.VideoCapture(0)\n",
    "\n",
    "while(True):\n",
    "    ret, frame = cap.read()\n",
    "    rgb = cv2.cvtColor(frame, cv2.COLOR_BGR2BGRA)\n",
    "\n",
    "    cv2.imshow('frame', rgb)\n",
    "    if cv2.waitKey(1) & 0xFF == ord('q'):\n",
    "        out = cv2.imwrite('capture.jpg', frame)\n",
    "        break\n",
    "\n",
    "cap.release()\n",
    "cv2.destroyAllWindows()"
   ]
  },
  {
   "cell_type": "code",
   "execution_count": null,
   "metadata": {},
   "outputs": [],
   "source": []
  },
  {
   "cell_type": "code",
   "execution_count": 1,
   "metadata": {},
   "outputs": [
    {
     "ename": "",
     "evalue": "",
     "output_type": "error",
     "traceback": [
      "\u001b[1;31mThe Kernel crashed while executing code in the the current cell or a previous cell. Please review the code in the cell(s) to identify a possible cause of the failure. Click <a href='https://aka.ms/vscodeJupyterKernelCrash'>here</a> for more info. View Jupyter <a href='command:jupyter.viewOutput'>log</a> for further details."
     ]
    }
   ],
   "source": [
    "from cv2 import VideoCapture, CascadeClassifier, COLOR_BGR2GRAY, cvtColor, imwrite, imencode\n",
    "import cv2\n",
    "from msrest.authentication import CognitiveServicesCredentials\n",
    "from azure.cognitiveservices.vision.face import FaceClient\n",
    "from time import time, sleep\n",
    "from azure.storage.blob import BlobServiceClient, BlobClient, ContainerClient\n",
    "from io import BytesIO\n",
    "from json import dumps\n",
    "\n",
    "\n",
    "connection_string='DefaultEndpointsProtocol=https;AccountName=landing123emhol;AccountKey=1RsQ5kv+PfpyKB4KeoOaLdkuZTNTRTbqF7EuZz1PZ02PYAD+mJIOJNxr0W0wX7+uSGrVv8Pn0HdV+AStKy3OBQ==;EndpointSuffix=core.windows.net'\n",
    "blob_service_client = BlobServiceClient.from_connection_string(connection_string)\n",
    "container = blob_service_client.get_container_client('landing')\n",
    "\n",
    "ENDPOINT = \"https://hackation-2023.cognitiveservices.azure.com/\"\n",
    "KEY = \"7d3b9dfa499d410fb59225479acf1ee7\"\n",
    "face_client = FaceClient(ENDPOINT, CognitiveServicesCredentials(KEY))\n",
    "attributes = ['age', 'gender', 'headPose', 'smile', 'facialHair', 'glasses', 'emotion', 'hair', 'makeup', 'occlusion', 'blur', 'exposure', 'noise']\n",
    "\n",
    "cap = cv2.VideoCapture(0)\n",
    "\n",
    "while True:\n",
    "    ret, frame = cap.read()\n",
    "    rgb = cv2.cvtColor(frame, cv2.COLOR_BGR2BGRA)\n",
    "\n",
    "    cv2.imshow('frame', rgb)\n",
    "    if cv2.waitKey(1) & 0xFF == ord('a'):\n",
    "        epoch = str(int(1000*time()))\n",
    "        filename = 'capture_' + epoch + '.jpg'\n",
    "        out = cv2.imwrite(filename, frame)\n",
    "        jpg_buffer = imencode('.jpg', frame)[1]\n",
    "\n",
    "        json_response = (\n",
    "            face_client\n",
    "            .face\n",
    "            .detect_with_stream(\n",
    "                BytesIO(jpg_buffer),\n",
    "                return_face_id=True,\n",
    "                return_face_landmarks=False,\n",
    "                return_face_attributes=attributes,\n",
    "                recognition_model='recognition_01',\n",
    "                return_recognition_model=False,\n",
    "                detection_model='detection_01',\n",
    "                face_id_time_to_live=86400,\n",
    "                custom_headers=None,\n",
    "                raw=True)\n",
    "            .response\n",
    "            .json()\n",
    "        )\n",
    "\n",
    "        for F in json_response:\n",
    "            F.update({'capturetime': epoch})\n",
    "\n",
    "        json_binary = (\n",
    "            dumps(\n",
    "                json_response,\n",
    "                ensure_ascii=False)\n",
    "            .encode(\n",
    "                'utf-8',\n",
    "                'ignore'))\n",
    "        \n",
    "        json_path = 'face_api_json/{}.json'.format(epoch)\n",
    "        blob = container.get_blob_client(json_path)\n",
    "        blob.upload_blob(json_binary, overwrite=True)\n",
    "        \n",
    "        \n",
    "    if cv2.waitKey(1) & 0xFF == ord('q'):\n",
    "        break\n",
    "\n",
    "cap.release()\n",
    "cv2.destroyAllWindows()"
   ]
  }
 ],
 "metadata": {
  "kernelspec": {
   "display_name": "Python 3",
   "language": "python",
   "name": "python3"
  },
  "language_info": {
   "codemirror_mode": {
    "name": "ipython",
    "version": 3
   },
   "file_extension": ".py",
   "mimetype": "text/x-python",
   "name": "python",
   "nbconvert_exporter": "python",
   "pygments_lexer": "ipython3",
   "version": "3.9.5"
  },
  "orig_nbformat": 4,
  "vscode": {
   "interpreter": {
    "hash": "aee8b7b246df8f9039afb4144a1f6fd8d2ca17a180786b69acc140d282b71a49"
   }
  }
 },
 "nbformat": 4,
 "nbformat_minor": 2
}
